{
 "cells": [
  {
   "cell_type": "code",
   "execution_count": 1,
   "metadata": {
    "trusted": true
   },
   "outputs": [],
   "source": [
    "   import torch\n",
    "   import torch.nn as nn\n",
    "   import torch.optim as optim\n",
    "   import torchvision.transforms as transforms\n",
    "   import torchvision.datasets as datasets\n",
    "   from torch.utils.data import DataLoader\n",
    "   import pandas as pd"
   ]
  },
  {
   "cell_type": "code",
   "execution_count": 21,
   "metadata": {},
   "outputs": [],
   "source": [
    "train_dir = f\"C:\\\\Users\\\\PC\\\\Desktop\\\\Projects\\\\Dates-classification\\\\Dates Classification\\\\data\\\\train\"\n",
    "labels_file = f\"C:\\\\Users\\\\PC\\\\Desktop\\\\Projects\\\\Dates-classification\\\\Dates Classification\\\\data\\\\train_labels.csv\"\n",
    "test_dir = f\"C:\\\\Users\\\\PC\\\\Desktop\\\\Projects\\\\Dates-classification\\\\Dates Classification\\\\data\\\\test\""
   ]
  },
  {
   "cell_type": "code",
   "execution_count": 13,
   "metadata": {
    "trusted": true
   },
   "outputs": [],
   "source": [
    "class SimpleNet(nn.Module):\n",
    "       def __init__(self):\n",
    "           super(SimpleNet, self).__init__()\n",
    "           self.conv1 = nn.Conv2d(in_channels=3, out_channels=16, kernel_size=3, padding=1)\n",
    "           self.conv2 = nn.Conv2d(in_channels=16, out_channels=32, kernel_size=3, padding=1)\n",
    "           self.fc1 = nn.Linear(32 * 8 * 8, 128)  \n",
    "           self.fc2 = nn.Linear(128, 7)  \n",
    "\n",
    "       def forward(self, x):\n",
    "           x = F.relu(self.conv1(x))\n",
    "           x = F.max_pool2d(x, 2)\n",
    "           x = F.relu(self.conv2(x))\n",
    "           x = F.max_pool2d(x, 2)\n",
    "           x = x.view(x.size(0), -1)\n",
    "           x = F.relu(self.fc1(x))\n",
    "           x = self.fc2(x)\n",
    "           return x"
   ]
  },
  {
   "cell_type": "code",
   "execution_count": 14,
   "metadata": {
    "trusted": true
   },
   "outputs": [],
   "source": [
    "net = SimpleNet()"
   ]
  },
  {
   "cell_type": "code",
   "execution_count": 15,
   "metadata": {
    "trusted": true
   },
   "outputs": [
    {
     "name": "stdout",
     "output_type": "stream",
     "text": [
      "{'Ajwa': 0, 'Medjool': 1, 'Meneifi': 2, 'Nabtat Ali': 3, 'Shaishe': 4, 'Sokari': 5, 'Sugaey': 6}\n"
     ]
    }
   ],
   "source": [
    "labels_df = pd.read_csv(labels_file)\n",
    "\n",
    "class_names = labels_df['label'].unique()  \n",
    "class_to_idx = {class_name: idx for idx, class_name in enumerate(class_names)}  # Create mapping\n",
    "\n",
    "print(class_to_idx)"
   ]
  },
  {
   "cell_type": "code",
   "execution_count": 16,
   "metadata": {
    "execution": {
     "iopub.execute_input": "2025-03-06T04:43:00.949019Z",
     "iopub.status.busy": "2025-03-06T04:43:00.948763Z",
     "iopub.status.idle": "2025-03-06T04:43:00.956494Z",
     "shell.execute_reply": "2025-03-06T04:43:00.955656Z",
     "shell.execute_reply.started": "2025-03-06T04:43:00.948991Z"
    },
    "trusted": true
   },
   "outputs": [],
   "source": [
    "import pandas as pd\n",
    "from PIL import Image\n",
    "import os\n",
    "from torch.utils.data import Dataset\n",
    "\n",
    "class CustomImageDataset(Dataset):\n",
    "    def __init__(self, image_dir, labels_file, transform=None):\n",
    "        self.image_dir = image_dir\n",
    "        self.labels_df = pd.read_csv(labels_file)\n",
    "        self.transform = transform\n",
    "        self.class_to_idx = {class_name: idx for idx, class_name in enumerate(self.labels_df['label'].unique())}\n",
    "\n",
    "    def __len__(self):\n",
    "        return len(self.labels_df)\n",
    "\n",
    "    def __getitem__(self, idx):\n",
    "        img_name = os.path.join(self.image_dir, self.labels_df.iloc[idx, 0])  \n",
    "        image = Image.open(img_name).convert(\"RGB\")  \n",
    "        label = self.labels_df.iloc[idx, 1]  \n",
    "        label_idx = self.class_to_idx[label]  \n",
    "        if self.transform:\n",
    "            image = self.transform(image)\n",
    "\n",
    "        return image, torch.tensor(label_idx) \n",
    "\n",
    "class CustomTestImageDataset(Dataset):\n",
    "    def __init__(self, image_dir, transform=None):\n",
    "        self.image_dir = image_dir\n",
    "        self.image_filenames = os.listdir(image_dir)  \n",
    "        self.transform = transform\n",
    "\n",
    "    def __len__(self):\n",
    "        return len(self.image_filenames)\n",
    "\n",
    "    def __getitem__(self, idx):\n",
    "        img_name = os.path.join(self.image_dir, self.image_filenames[idx])  \n",
    "        image = Image.open(img_name).convert(\"RGB\")  \n",
    "\n",
    "        if self.transform:\n",
    "            image = self.transform(image)\n",
    "\n",
    "        return image, self.image_filenames[idx]  #"
   ]
  },
  {
   "cell_type": "code",
   "execution_count": 17,
   "metadata": {
    "execution": {
     "iopub.execute_input": "2025-03-06T04:43:00.957557Z",
     "iopub.status.busy": "2025-03-06T04:43:00.957272Z",
     "iopub.status.idle": "2025-03-06T04:43:00.977301Z",
     "shell.execute_reply": "2025-03-06T04:43:00.976539Z",
     "shell.execute_reply.started": "2025-03-06T04:43:00.957520Z"
    },
    "trusted": true
   },
   "outputs": [],
   "source": [
    "# Define transformations\n",
    "transform = transforms.Compose([\n",
    "    transforms.Resize((32, 32)),\n",
    "    transforms.ToTensor(),\n",
    "])\n",
    "\n",
    "train_dataset = CustomImageDataset(image_dir=train_dir, labels_file=labels_file, transform=transform)\n",
    "\n",
    "test_dataset = CustomTestImageDataset(image_dir=test_dir, transform=transform)\n",
    "\n",
    "train_loader = DataLoader(train_dataset, batch_size=16, shuffle=True)\n",
    "test_loader = DataLoader(test_dataset, batch_size=16, shuffle=False)"
   ]
  },
  {
   "cell_type": "code",
   "execution_count": 18,
   "metadata": {
    "execution": {
     "iopub.execute_input": "2025-03-06T04:43:00.978265Z",
     "iopub.status.busy": "2025-03-06T04:43:00.978083Z",
     "iopub.status.idle": "2025-03-06T04:43:00.985014Z",
     "shell.execute_reply": "2025-03-06T04:43:00.984308Z",
     "shell.execute_reply.started": "2025-03-06T04:43:00.978249Z"
    },
    "trusted": true
   },
   "outputs": [],
   "source": [
    "criterion = nn.CrossEntropyLoss()\n",
    "optimizer = optim.SGD(net.parameters(), lr=0.0001, momentum=0.9)"
   ]
  },
  {
   "cell_type": "code",
   "execution_count": null,
   "metadata": {
    "execution": {
     "iopub.execute_input": "2025-03-06T04:43:00.985807Z",
     "iopub.status.busy": "2025-03-06T04:43:00.985625Z"
    },
    "trusted": true
   },
   "outputs": [],
   "source": [
    "num_epochs = 10\n",
    "for epoch in range(num_epochs):\n",
    "    net.train()  \n",
    "\n",
    "    for images, labels in train_loader:\n",
    "        optimizer.zero_grad()  \n",
    "        outputs = net(images)  \n",
    "        loss = criterion(outputs, labels)  \n",
    "        loss.backward()  \n",
    "        optimizer.step()\n",
    "\n",
    "        running_loss += loss.item()\n",
    "\n",
    "    epoch_loss = running_loss / len(train_loader)\n",
    "    print(f'Epoch [{epoch + 1}/{num_epochs}], Loss: {epoch_loss:.4f}')"
   ]
  },
  {
   "cell_type": "code",
   "execution_count": null,
   "metadata": {
    "trusted": true
   },
   "outputs": [],
   "source": [
    "net.eval()\n",
    "\n",
    "predictions = []\n",
    "with torch.no_grad():  \n",
    "       for images, filenames in test_loader:\n",
    "           outputs = net(images)  s\n",
    "           _, predicted = torch.max(outputs, 1)  \n",
    "           # Collect predictions\n",
    "           for i in range(len(filenames)):\n",
    "               predictions.append((filenames[i], predicted[i].item()))  "
   ]
  }
 ],
 "metadata": {
  "kaggle": {
   "accelerator": "gpu",
   "dataSources": [
    {
     "databundleVersionId": 11270426,
     "sourceId": 94832,
     "sourceType": "competition"
    }
   ],
   "dockerImageVersionId": 30918,
   "isGpuEnabled": true,
   "isInternetEnabled": true,
   "language": "python",
   "sourceType": "notebook"
  },
  "kernelspec": {
   "display_name": "Python 3",
   "language": "python",
   "name": "python3"
  },
  "language_info": {
   "codemirror_mode": {
    "name": "ipython",
    "version": 3
   },
   "file_extension": ".py",
   "mimetype": "text/x-python",
   "name": "python",
   "nbconvert_exporter": "python",
   "pygments_lexer": "ipython3",
   "version": "3.12.4"
  }
 },
 "nbformat": 4,
 "nbformat_minor": 4
}
